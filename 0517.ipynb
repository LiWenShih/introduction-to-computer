{
  "nbformat": 4,
  "nbformat_minor": 0,
  "metadata": {
    "colab": {
      "provenance": [],
      "authorship_tag": "ABX9TyP/O0GBDUAP/clrESbRqSeF",
      "include_colab_link": true
    },
    "kernelspec": {
      "name": "python3",
      "display_name": "Python 3"
    },
    "language_info": {
      "name": "python"
    }
  },
  "cells": [
    {
      "cell_type": "markdown",
      "metadata": {
        "id": "view-in-github",
        "colab_type": "text"
      },
      "source": [
        "<a href=\"https://colab.research.google.com/github/LiWenShih/introduction-to-computer/blob/main/0517.ipynb\" target=\"_parent\"><img src=\"https://colab.research.google.com/assets/colab-badge.svg\" alt=\"Open In Colab\"/></a>"
      ]
    },
    {
      "cell_type": "code",
      "execution_count": 4,
      "metadata": {
        "colab": {
          "base_uri": "https://localhost:8080/"
        },
        "id": "8q5djROXLKaf",
        "outputId": "eece258d-9fbb-4b5e-bcf5-fc67cfabc9df"
      },
      "outputs": [
        {
          "output_type": "stream",
          "name": "stdout",
          "text": [
            "score:50\n",
            "Grade is: F\n"
          ]
        }
      ],
      "source": [
        "score=int(input('score:'))\n",
        "if score >= 90:\n",
        "  print('Grade is: A')\n",
        "elif score >= 80:\n",
        "  print('Grade is: B')\n",
        "elif score >= 70:\n",
        "  print('Grade is: C')\n",
        "elif score >= 60:\n",
        "  print('Grade is: D')\n",
        "else:\n",
        "  print('Grade is: F')"
      ]
    },
    {
      "cell_type": "code",
      "source": [
        "rain=str(input('今天會下雨嗎?'))\n",
        "if(rain=='Y' or rain=='y'):\n",
        " print('要帶傘')\n",
        "elif(rain=='N' or rain=='n'):\n",
        "  print('不用帶傘')"
      ],
      "metadata": {
        "colab": {
          "base_uri": "https://localhost:8080/"
        },
        "id": "E1YTNT6PPhAd",
        "outputId": "eba42d9f-b984-4686-eb96-efa1adae0f87"
      },
      "execution_count": 5,
      "outputs": [
        {
          "output_type": "stream",
          "name": "stdout",
          "text": [
            "今天會下雨嗎?n\n",
            "不用帶傘\n"
          ]
        }
      ]
    },
    {
      "cell_type": "code",
      "source": [
        "temperature=float(input('temperature:'))\n",
        "if temperature >=37.5:\n",
        "  print('體溫過高!')\n",
        "elif temperature >=37:\n",
        "  print('體溫略高!')\n",
        "elif temperature >=36.9:\n",
        "  print('體溫正常!')\n",
        "else:\n",
        "  print('體溫異常，請重新量測!') "
      ],
      "metadata": {
        "colab": {
          "base_uri": "https://localhost:8080/"
        },
        "id": "T4QFyRU0PmJ1",
        "outputId": "38e9517c-8948-4102-be3b-d172d05c6d4b"
      },
      "execution_count": 7,
      "outputs": [
        {
          "output_type": "stream",
          "name": "stdout",
          "text": [
            "temperature:36.5\n",
            "體溫異常，請重新量測!\n"
          ]
        }
      ]
    },
    {
      "cell_type": "code",
      "source": [
        "score=int(input('請輸入成績:'))\n",
        "if score >= 90:\n",
        "  print('A')\n",
        "elif score >= 80:\n",
        "  print('B')\n",
        "elif score >= 70:\n",
        "  print('C')\n",
        "elif score >= 60:\n",
        "  print('D')\n",
        "else:\n",
        "  print('E')"
      ],
      "metadata": {
        "colab": {
          "base_uri": "https://localhost:8080/"
        },
        "id": "7jojZH_UPs_m",
        "outputId": "9f2db656-479b-4332-a114-a79ad451316a"
      },
      "execution_count": 9,
      "outputs": [
        {
          "output_type": "stream",
          "name": "stdout",
          "text": [
            "請輸入成績:90\n",
            "A\n"
          ]
        }
      ]
    },
    {
      "cell_type": "code",
      "source": [
        " season=int(input('請輸入月份:'))\n",
        "if season == 3 or 4 or 5:\n",
        "  print(season,'月為春天!')\n",
        "elif season == 6 or 7 or 8:\n",
        "  print(season,'月為夏天!')\n",
        "elif season == 9 or 10 or 11:\n",
        "  print(season,'月為秋天!')\n",
        "elif season == 12 or 1 or 2:\n",
        "  print(season,'月為冬天!')"
      ],
      "metadata": {
        "colab": {
          "base_uri": "https://localhost:8080/"
        },
        "id": "8EQhgT5sP1s2",
        "outputId": "4c47ac7a-b311-452f-de62-56c2517920e3"
      },
      "execution_count": 10,
      "outputs": [
        {
          "output_type": "stream",
          "name": "stdout",
          "text": [
            "請輸入月份:6\n",
            "6 月為春天!\n"
          ]
        }
      ]
    },
    {
      "cell_type": "code",
      "source": [
        "b=float\n",
        "a=int(input('請輸入今年收入淨額:'))\n",
        "if a>=2000000:\n",
        "  b=a*0.3\n",
        "  print('賦稅金額:',b)\n",
        "elif a>=1000000:\n",
        "  b=a*0.21\n",
        "  print('賦稅金額:',b)  \n",
        "elif a>=600000:\n",
        "  b=a*0.13\n",
        "  print('賦稅金額:',b)  \n",
        "elif a>=300000:\n",
        "  b=a*0.06\n",
        "  print('賦稅金額:',b)\n",
        "else:\n",
        "  print('賦稅淨額0元') "
      ],
      "metadata": {
        "colab": {
          "base_uri": "https://localhost:8080/"
        },
        "id": "1Lz0I5sdP5Jm",
        "outputId": "e1a1abc2-0090-4805-8dc3-9ba5d357b578"
      },
      "execution_count": 11,
      "outputs": [
        {
          "output_type": "stream",
          "name": "stdout",
          "text": [
            "請輸入今年收入淨額:100000\n",
            "賦稅淨額0元\n"
          ]
        }
      ]
    }
  ]
}