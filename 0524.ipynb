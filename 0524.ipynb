{
  "nbformat": 4,
  "nbformat_minor": 0,
  "metadata": {
    "colab": {
      "provenance": [],
      "authorship_tag": "ABX9TyOZsFx4A1wx9U4R/oOVn2/7",
      "include_colab_link": true
    },
    "kernelspec": {
      "name": "python3",
      "display_name": "Python 3"
    },
    "language_info": {
      "name": "python"
    }
  },
  "cells": [
    {
      "cell_type": "markdown",
      "metadata": {
        "id": "view-in-github",
        "colab_type": "text"
      },
      "source": [
        "<a href=\"https://colab.research.google.com/github/LiWenShih/introduction-to-computer/blob/main/0524.ipynb\" target=\"_parent\"><img src=\"https://colab.research.google.com/assets/colab-badge.svg\" alt=\"Open In Colab\"/></a>"
      ]
    },
    {
      "cell_type": "code",
      "execution_count": 1,
      "metadata": {
        "colab": {
          "base_uri": "https://localhost:8080/"
        },
        "id": "r2dmgn7q0iXs",
        "outputId": "f0b3eaa9-c955-4823-e113-a983ff7bdbfc"
      },
      "outputs": [
        {
          "output_type": "stream",
          "name": "stdout",
          "text": [
            "Hi\n"
          ]
        }
      ],
      "source": [
        "print(\"Hi\")"
      ]
    },
    {
      "cell_type": "code",
      "source": [
        "list1 = range(2)"
      ],
      "metadata": {
        "id": "e5-A6Br11Me5"
      },
      "execution_count": 2,
      "outputs": []
    },
    {
      "cell_type": "code",
      "source": [
        "list(list1)"
      ],
      "metadata": {
        "colab": {
          "base_uri": "https://localhost:8080/"
        },
        "id": "yjtrQSwQ2Yix",
        "outputId": "43889126-b7df-442d-ffd7-251729139bdd"
      },
      "execution_count": 3,
      "outputs": [
        {
          "output_type": "execute_result",
          "data": {
            "text/plain": [
              "[0, 1]"
            ]
          },
          "metadata": {},
          "execution_count": 3
        }
      ]
    },
    {
      "cell_type": "code",
      "source": [
        "list2 = range(3)"
      ],
      "metadata": {
        "id": "R_F_melJ2dGN"
      },
      "execution_count": 4,
      "outputs": []
    },
    {
      "cell_type": "code",
      "source": [
        "list(list2)"
      ],
      "metadata": {
        "colab": {
          "base_uri": "https://localhost:8080/"
        },
        "id": "drJJbGfQ2ru-",
        "outputId": "3af7e08a-6d1f-4e97-9adb-32b66d1c2ffd"
      },
      "execution_count": 5,
      "outputs": [
        {
          "output_type": "execute_result",
          "data": {
            "text/plain": [
              "[0, 1, 2]"
            ]
          },
          "metadata": {},
          "execution_count": 5
        }
      ]
    },
    {
      "cell_type": "code",
      "source": [
        "list3 = range(4)"
      ],
      "metadata": {
        "id": "3ZbsAhGm2uUi"
      },
      "execution_count": 6,
      "outputs": []
    },
    {
      "cell_type": "code",
      "source": [
        "list(list3)"
      ],
      "metadata": {
        "colab": {
          "base_uri": "https://localhost:8080/"
        },
        "id": "kwdEeli025yW",
        "outputId": "2dd93566-eba0-4610-ebdd-79678ac3c87b"
      },
      "execution_count": 7,
      "outputs": [
        {
          "output_type": "execute_result",
          "data": {
            "text/plain": [
              "[0, 1, 2, 3]"
            ]
          },
          "metadata": {},
          "execution_count": 7
        }
      ]
    },
    {
      "cell_type": "code",
      "source": [
        "list4 = range(1,5)"
      ],
      "metadata": {
        "id": "BH8-WjfR29VD"
      },
      "execution_count": 8,
      "outputs": []
    },
    {
      "cell_type": "code",
      "source": [
        "list(list4)"
      ],
      "metadata": {
        "colab": {
          "base_uri": "https://localhost:8080/"
        },
        "id": "MkA50cAx3GF_",
        "outputId": "be16897c-002f-4323-e0df-3952ea0c0af5"
      },
      "execution_count": 9,
      "outputs": [
        {
          "output_type": "execute_result",
          "data": {
            "text/plain": [
              "[1, 2, 3, 4]"
            ]
          },
          "metadata": {},
          "execution_count": 9
        }
      ]
    },
    {
      "cell_type": "code",
      "source": [
        "list5 = range(2,8)"
      ],
      "metadata": {
        "id": "UULbx7WZ3J1A"
      },
      "execution_count": 10,
      "outputs": []
    },
    {
      "cell_type": "code",
      "source": [
        "list(list5)"
      ],
      "metadata": {
        "colab": {
          "base_uri": "https://localhost:8080/"
        },
        "id": "ioh7b8u53QBq",
        "outputId": "022d910e-cc4a-40ed-e7c3-fc972465dcd8"
      },
      "execution_count": 11,
      "outputs": [
        {
          "output_type": "execute_result",
          "data": {
            "text/plain": [
              "[2, 3, 4, 5, 6, 7]"
            ]
          },
          "metadata": {},
          "execution_count": 11
        }
      ]
    },
    {
      "cell_type": "code",
      "source": [
        "list6 = range(-2,10)"
      ],
      "metadata": {
        "id": "mkV29anr3SnE"
      },
      "execution_count": 12,
      "outputs": []
    },
    {
      "cell_type": "code",
      "source": [
        "list(list6)"
      ],
      "metadata": {
        "colab": {
          "base_uri": "https://localhost:8080/"
        },
        "id": "3OFwVJR33d_p",
        "outputId": "8aaeb486-d1ad-4a08-95bf-07da721a3846"
      },
      "execution_count": 15,
      "outputs": [
        {
          "output_type": "execute_result",
          "data": {
            "text/plain": [
              "[-2, -1, 0, 1, 2, 3, 4, 5, 6, 7, 8, 9]"
            ]
          },
          "metadata": {},
          "execution_count": 15
        }
      ]
    },
    {
      "cell_type": "code",
      "source": [
        "list7 = range(3,1)"
      ],
      "metadata": {
        "id": "cmVKC_I63qdQ"
      },
      "execution_count": 18,
      "outputs": []
    },
    {
      "cell_type": "code",
      "source": [
        "list(list7)"
      ],
      "metadata": {
        "colab": {
          "base_uri": "https://localhost:8080/"
        },
        "id": "wV5y45ce3xja",
        "outputId": "a470357e-a8dc-485b-9367-03a936444b32"
      },
      "execution_count": 19,
      "outputs": [
        {
          "output_type": "execute_result",
          "data": {
            "text/plain": [
              "[]"
            ]
          },
          "metadata": {},
          "execution_count": 19
        }
      ]
    },
    {
      "cell_type": "code",
      "source": [
        "list8 = range(2,1)"
      ],
      "metadata": {
        "id": "Lz0W8r9c3-hr"
      },
      "execution_count": 20,
      "outputs": []
    },
    {
      "cell_type": "code",
      "source": [
        "list(list8)"
      ],
      "metadata": {
        "colab": {
          "base_uri": "https://localhost:8080/"
        },
        "id": "ZGvWvzP44M5C",
        "outputId": "1bb42791-32f7-445f-d6d2-7b45848b321e"
      },
      "execution_count": 21,
      "outputs": [
        {
          "output_type": "execute_result",
          "data": {
            "text/plain": [
              "[]"
            ]
          },
          "metadata": {},
          "execution_count": 21
        }
      ]
    },
    {
      "cell_type": "code",
      "source": [
        "c = range(3,8,1)"
      ],
      "metadata": {
        "id": "cQMsuaJH4OwI"
      },
      "execution_count": 22,
      "outputs": []
    },
    {
      "cell_type": "code",
      "source": [
        "list(c)"
      ],
      "metadata": {
        "colab": {
          "base_uri": "https://localhost:8080/"
        },
        "id": "vMJN5Uu84R5L",
        "outputId": "c4064cd4-4d0e-4da4-e306-c6ab12b10531"
      },
      "execution_count": 23,
      "outputs": [
        {
          "output_type": "execute_result",
          "data": {
            "text/plain": [
              "[3, 4, 5, 6, 7]"
            ]
          },
          "metadata": {},
          "execution_count": 23
        }
      ]
    },
    {
      "cell_type": "code",
      "source": [
        "d = range(3,8,2)"
      ],
      "metadata": {
        "id": "uvqIMiWT4U1Q"
      },
      "execution_count": 24,
      "outputs": []
    },
    {
      "cell_type": "code",
      "source": [
        "list(d)"
      ],
      "metadata": {
        "colab": {
          "base_uri": "https://localhost:8080/"
        },
        "id": "9Yo16xtN4Xki",
        "outputId": "1db1e50f-3a9f-4a42-ac88-4db42654aa68"
      },
      "execution_count": 25,
      "outputs": [
        {
          "output_type": "execute_result",
          "data": {
            "text/plain": [
              "[3, 5, 7]"
            ]
          },
          "metadata": {},
          "execution_count": 25
        }
      ]
    },
    {
      "cell_type": "code",
      "source": [
        "list8 = range(10,2,-2)"
      ],
      "metadata": {
        "id": "NdZnSbSj4Zvu"
      },
      "execution_count": 26,
      "outputs": []
    },
    {
      "cell_type": "code",
      "source": [
        "list(list8)"
      ],
      "metadata": {
        "colab": {
          "base_uri": "https://localhost:8080/"
        },
        "id": "L3aqvCj34jPb",
        "outputId": "ba77f78c-a915-40a4-c012-64659dc23271"
      },
      "execution_count": 27,
      "outputs": [
        {
          "output_type": "execute_result",
          "data": {
            "text/plain": [
              "[10, 8, 6, 4]"
            ]
          },
          "metadata": {},
          "execution_count": 27
        }
      ]
    },
    {
      "cell_type": "code",
      "source": [
        "e = range(8,3,-1)"
      ],
      "metadata": {
        "id": "mR9mtR3e4tja"
      },
      "execution_count": 28,
      "outputs": []
    },
    {
      "cell_type": "code",
      "source": [
        "list(e)"
      ],
      "metadata": {
        "colab": {
          "base_uri": "https://localhost:8080/"
        },
        "id": "uhx0o1k24_uz",
        "outputId": "0e445de4-e664-4f43-8680-88cfec658c7a"
      },
      "execution_count": 29,
      "outputs": [
        {
          "output_type": "execute_result",
          "data": {
            "text/plain": [
              "[8, 7, 6, 5, 4]"
            ]
          },
          "metadata": {},
          "execution_count": 29
        }
      ]
    },
    {
      "cell_type": "code",
      "source": [
        "a = list(range(9))\n",
        "b = list(range(1,10))\n",
        "c = list(range(1,10,2))\n",
        "d = list(range(10,0,-2))\n",
        "print(a)\n",
        "print(b)\n",
        "print(c)\n",
        "print(d)"
      ],
      "metadata": {
        "colab": {
          "base_uri": "https://localhost:8080/"
        },
        "id": "zGyZFXNxk95v",
        "outputId": "c9ea8a05-2bc3-4ed0-e2d0-6b0824f9026b"
      },
      "execution_count": 51,
      "outputs": [
        {
          "output_type": "stream",
          "name": "stdout",
          "text": [
            "[0, 1, 2, 3, 4, 5, 6, 7, 8]\n",
            "[1, 2, 3, 4, 5, 6, 7, 8, 9]\n",
            "[1, 3, 5, 7, 9]\n",
            "[10, 8, 6, 4, 2]\n"
          ]
        }
      ]
    },
    {
      "cell_type": "code",
      "source": [
        "a = input('請輸入一個正整數  ')\n",
        "\n",
        "for n in range(int(a)):\n",
        "    print(n+1, end = '  ')"
      ],
      "metadata": {
        "colab": {
          "base_uri": "https://localhost:8080/"
        },
        "id": "mUyxMfIxlHZb",
        "outputId": "f8824845-42c5-4125-cb56-24c44c502203"
      },
      "execution_count": 52,
      "outputs": [
        {
          "output_type": "stream",
          "name": "stdout",
          "text": [
            "請輸入一個正整數  5\n",
            "1  2  3  4  5  "
          ]
        }
      ]
    },
    {
      "cell_type": "code",
      "source": [
        "a = input('請輸入一個正整數  ')\n",
        "\n",
        "for n in range(int(a)):\n",
        "    print(n+1, end = '  ')"
      ],
      "metadata": {
        "colab": {
          "base_uri": "https://localhost:8080/"
        },
        "id": "kitUYbX2lQPi",
        "outputId": "7dfdfbcb-788f-4482-f5ed-c6408393ccfd"
      },
      "execution_count": 53,
      "outputs": [
        {
          "output_type": "stream",
          "name": "stdout",
          "text": [
            "請輸入一個正整數  12\n",
            "1  2  3  4  5  6  7  8  9  10  11  12  "
          ]
        }
      ]
    },
    {
      "cell_type": "code",
      "source": [
        "a = input('請輸入一個正整數  ')\n",
        "\n",
        "sum = 0\n",
        "\n",
        "for n in range(int(a)):\n",
        "    \n",
        "    sum = sum + n+1\n",
        "\n",
        "print(sum)"
      ],
      "metadata": {
        "colab": {
          "base_uri": "https://localhost:8080/"
        },
        "id": "UVRPdy6BlS4A",
        "outputId": "dfbedc98-0e2a-4f62-b199-aa26694853ce"
      },
      "execution_count": 54,
      "outputs": [
        {
          "output_type": "stream",
          "name": "stdout",
          "text": [
            "請輸入一個正整數  10\n",
            "55\n"
          ]
        }
      ]
    },
    {
      "cell_type": "code",
      "source": [
        "a = input('請輸入一個正整數  ')\n",
        "\n",
        "sum = 0\n",
        "\n",
        "for n in range(int(a)):\n",
        "    \n",
        "    sum = sum + n+1\n",
        "\n",
        "print(sum)"
      ],
      "metadata": {
        "colab": {
          "base_uri": "https://localhost:8080/"
        },
        "id": "FQWYdwMSlYVY",
        "outputId": "208d2e9d-2578-49e6-9719-3744aec2897c"
      },
      "execution_count": 55,
      "outputs": [
        {
          "output_type": "stream",
          "name": "stdout",
          "text": [
            "請輸入一個正整數  50\n",
            "1275\n"
          ]
        }
      ]
    },
    {
      "cell_type": "code",
      "source": [
        "a = input('請輸入一個正整數  ')\n",
        "\n",
        "sum = 0\n",
        "\n",
        "for n in range(int(a)):\n",
        "    \n",
        "    sum = sum + n+1\n",
        "\n",
        "    print('1到'+str(n+1)+'的整數和為:  '+str(sum))"
      ],
      "metadata": {
        "colab": {
          "base_uri": "https://localhost:8080/"
        },
        "id": "R1PysOg9lbnT",
        "outputId": "c4517ba2-f107-4632-e664-9aaf1a5dd57a"
      },
      "execution_count": 56,
      "outputs": [
        {
          "output_type": "stream",
          "name": "stdout",
          "text": [
            "請輸入一個正整數  10\n",
            "1到1的整數和為:  1\n",
            "1到2的整數和為:  3\n",
            "1到3的整數和為:  6\n",
            "1到4的整數和為:  10\n",
            "1到5的整數和為:  15\n",
            "1到6的整數和為:  21\n",
            "1到7的整數和為:  28\n",
            "1到8的整數和為:  36\n",
            "1到9的整數和為:  45\n",
            "1到10的整數和為:  55\n"
          ]
        }
      ]
    }
  ]
}