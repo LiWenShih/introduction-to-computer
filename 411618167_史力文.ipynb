{
  "nbformat": 4,
  "nbformat_minor": 0,
  "metadata": {
    "colab": {
      "provenance": [],
      "authorship_tag": "ABX9TyMCxbIYJ0quIFc4JEhh0Rj1",
      "include_colab_link": true
    },
    "kernelspec": {
      "name": "python3",
      "display_name": "Python 3"
    },
    "language_info": {
      "name": "python"
    }
  },
  "cells": [
    {
      "cell_type": "markdown",
      "metadata": {
        "id": "view-in-github",
        "colab_type": "text"
      },
      "source": [
        "<a href=\"https://colab.research.google.com/github/LiWenShih/introduction-to-computer/blob/main/411618167_%E5%8F%B2%E5%8A%9B%E6%96%87.ipynb\" target=\"_parent\"><img src=\"https://colab.research.google.com/assets/colab-badge.svg\" alt=\"Open In Colab\"/></a>"
      ]
    },
    {
      "cell_type": "markdown",
      "source": [
        "第一題"
      ],
      "metadata": {
        "id": "uVwn-pUVxgyV"
      }
    },
    {
      "cell_type": "code",
      "execution_count": 22,
      "metadata": {
        "colab": {
          "base_uri": "https://localhost:8080/"
        },
        "id": "3wRjOSFMqeZS",
        "outputId": "64950ffd-eaae-402a-a933-aa050fd2a9a4"
      },
      "outputs": [
        {
          "output_type": "stream",
          "name": "stdout",
          "text": [
            "panda\n",
            "panda\n"
          ]
        }
      ],
      "source": [
        "a = input()\n",
        "print(a)"
      ]
    },
    {
      "cell_type": "markdown",
      "source": [
        "第二題"
      ],
      "metadata": {
        "id": "O0MMGgn6xlJC"
      }
    },
    {
      "cell_type": "code",
      "source": [
        "b = input()\n",
        "print(len(b))\n",
        "b = input()\n",
        "print(len(b))"
      ],
      "metadata": {
        "colab": {
          "base_uri": "https://localhost:8080/"
        },
        "id": "ZnVzRcJNupCT",
        "outputId": "b45cd068-4d65-43c7-a166-409e1f3690c9"
      },
      "execution_count": 19,
      "outputs": [
        {
          "output_type": "stream",
          "name": "stdout",
          "text": [
            "good to drink ?\n",
            "15\n",
            "hello panda hi hi\n",
            "17\n"
          ]
        }
      ]
    },
    {
      "cell_type": "markdown",
      "source": [
        "第三題"
      ],
      "metadata": {
        "id": "21RLFF-TxnRa"
      }
    },
    {
      "cell_type": "code",
      "source": [
        "h,w = input().split()\n",
        "int_h = int(h)\n",
        "int_w = int(w)\n",
        "h_a = int_h / 100\n",
        "bmi = int_w / h_a**2\n",
        "print(\"%.2f\" % bmi)"
      ],
      "metadata": {
        "colab": {
          "base_uri": "https://localhost:8080/"
        },
        "id": "Bc160t2YuqKt",
        "outputId": "56b8fec0-049a-40b9-a627-5c3b2c98c0a2"
      },
      "execution_count": 21,
      "outputs": [
        {
          "output_type": "stream",
          "name": "stdout",
          "text": [
            "176 75\n",
            "24.21\n"
          ]
        }
      ]
    }
  ]
}